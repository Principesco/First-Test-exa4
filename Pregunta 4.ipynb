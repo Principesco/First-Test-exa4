{
 "cells": [
  {
   "cell_type": "code",
   "execution_count": null,
   "id": "fe59c334",
   "metadata": {},
   "outputs": [],
   "source": [
    "import math\n",
    "import numpy as np\n",
    "import pandas as pn\n",
    "#B2 ES la columna de ocupado o no, sera el clasificador\n",
    "B2=pn.read_csv('room-occupancy.csv',skiprows=0,usecols=[5])\n",
    "ocupancy=np.array(B2)\n",
    "ocupancy=np.transpose(ocupancy)\n",
    "XX=np.array(B2)\n",
    "y1=np.array(ocupancy)\n",
    "from sklearn import tree\n",
    "clasi1=tree.DecisionTreeClassifier()\n",
    "clasif=clasi1.fit(XX,ocupancy)\n",
    "print(clasif)\n",
    "predic=clasif.predict([[1,0,1,1,0]])\n",
    "print(predic)"
   ]
  }
 ],
 "metadata": {
  "kernelspec": {
   "display_name": "Python 3",
   "language": "python",
   "name": "python3"
  },
  "language_info": {
   "codemirror_mode": {
    "name": "ipython",
    "version": 3
   },
   "file_extension": ".py",
   "mimetype": "text/x-python",
   "name": "python",
   "nbconvert_exporter": "python",
   "pygments_lexer": "ipython3",
   "version": "3.8.8"
  }
 },
 "nbformat": 4,
 "nbformat_minor": 5
}
